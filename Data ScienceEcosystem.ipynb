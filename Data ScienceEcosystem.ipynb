{
  "metadata": {
    "language_info": {
      "codemirror_mode": {
        "name": "python",
        "version": 3
      },
      "file_extension": ".py",
      "mimetype": "text/x-python",
      "name": "python",
      "nbconvert_exporter": "python",
      "pygments_lexer": "ipython3",
      "version": "3.8"
    },
    "kernelspec": {
      "name": "python",
      "display_name": "Pyolite",
      "language": "python"
    }
  },
  "nbformat_minor": 4,
  "nbformat": 4,
  "cells": [
    {
      "cell_type": "markdown",
      "source": "# DATA SCIENCE TOOLS ",
      "metadata": {}
    },
    {
      "cell_type": "markdown",
      "source": "In this notebook I have summerized the tools of the Data Science.  ",
      "metadata": {}
    },
    {
      "cell_type": "markdown",
      "source": "## Objectives of Data Science:\n* Discover patterns and trends in datasets to get insights. \n* Create forecasting algorithms and data models. \n* Improve the quality of data or product offerings by utilising machine learning techniques",
      "metadata": {}
    },
    {
      "cell_type": "markdown",
      "source": "The most poular languages used by the Data Scientists are listed below :\n   * Python\n   * SQL\n   * R\n   * JAVA \n   * Scala\n   * Java Script",
      "metadata": {}
    },
    {
      "cell_type": "markdown",
      "source": "The Data Science Libraries are listed below:\n* Paandas\n* Numpy\n* Matplotlib\n* Seaborn\n* Scikit-learn \n* Keras\n* Tensorflow\n* Pytorch\n* BigDL",
      "metadata": {}
    },
    {
      "cell_type": "markdown",
      "source": "### TABLE FOR DATA SCIENCE TOOLS\n| DATA SCIENCE TOOLS |\n| --------------------- |\n| Apache Spark |\n| Knime |\n| Juypter |\n| RStudio |\n\n\n",
      "metadata": {}
    },
    {
      "cell_type": "markdown",
      "source": "## Arthematic Expression \n**Below are some of the examples of arthematic expressions:**\n* 5x+8y\n* 3+56+4\n* (6t+4u)+(8u+7t)\n* 7*8+51\n",
      "metadata": {
        "tags": []
      }
    },
    {
      "cell_type": "code",
      "source": "a=7\nb=8\nc=a+b\nd=a*b\ne=(a*b)+c\nprint(c)\nprint (d)\nprint (e)",
      "metadata": {
        "trusted": true
      },
      "execution_count": 4,
      "outputs": [
        {
          "name": "stdout",
          "text": "15\n56\n71\n",
          "output_type": "stream"
        }
      ]
    },
    {
      "cell_type": "code",
      "source": "#This code will convert the minutess into hours\n\nminutes = 200\nhours = minutes/60\nprint(hours)",
      "metadata": {
        "trusted": true
      },
      "execution_count": 8,
      "outputs": [
        {
          "name": "stdout",
          "text": "3.3333333333333335\n",
          "output_type": "stream"
        }
      ]
    },
    {
      "cell_type": "markdown",
      "source": "## AUTHOR\nBAKHTAWAR MASROOR",
      "metadata": {
        "tags": []
      }
    },
    {
      "cell_type": "code",
      "source": "",
      "metadata": {},
      "execution_count": null,
      "outputs": []
    }
  ]
}